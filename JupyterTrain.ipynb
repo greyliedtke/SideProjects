{
 "cells": [
  {
   "cell_type": "code",
   "execution_count": 3,
   "metadata": {},
   "outputs": [
    {
     "ename": "ModuleNotFoundError",
     "evalue": "No module named 'GTools.PlotMaker'",
     "output_type": "error",
     "traceback": [
      "\u001b[1;31m---------------------------------------------------------------------------\u001b[0m",
      "\u001b[1;31mModuleNotFoundError\u001b[0m                       Traceback (most recent call last)",
      "\u001b[1;32mc:\\Users\\greyl\\SideProjects\\SideProjects\\JupyterTrain.ipynb Cell 1\u001b[0m in \u001b[0;36m<cell line: 12>\u001b[1;34m()\u001b[0m\n\u001b[0;32m      <a href='vscode-notebook-cell:/c%3A/Users/greyl/SideProjects/SideProjects/JupyterTrain.ipynb#W0sZmlsZQ%3D%3D?line=0'>1</a>\u001b[0m \u001b[39m# section to demonstrate python skills...\u001b[39;00m\n\u001b[0;32m      <a href='vscode-notebook-cell:/c%3A/Users/greyl/SideProjects/SideProjects/JupyterTrain.ipynb#W0sZmlsZQ%3D%3D?line=1'>2</a>\u001b[0m \u001b[39m# plotting scripts\u001b[39;00m\n\u001b[0;32m      <a href='vscode-notebook-cell:/c%3A/Users/greyl/SideProjects/SideProjects/JupyterTrain.ipynb#W0sZmlsZQ%3D%3D?line=2'>3</a>\u001b[0m \n\u001b[1;32m   (...)\u001b[0m\n\u001b[0;32m      <a href='vscode-notebook-cell:/c%3A/Users/greyl/SideProjects/SideProjects/JupyterTrain.ipynb#W0sZmlsZQ%3D%3D?line=8'>9</a>\u001b[0m \u001b[39m# creating pip \u001b[39;00m\n\u001b[0;32m     <a href='vscode-notebook-cell:/c%3A/Users/greyl/SideProjects/SideProjects/JupyterTrain.ipynb#W0sZmlsZQ%3D%3D?line=9'>10</a>\u001b[0m \u001b[39m# image projects...\u001b[39;00m\n\u001b[1;32m---> <a href='vscode-notebook-cell:/c%3A/Users/greyl/SideProjects/SideProjects/JupyterTrain.ipynb#W0sZmlsZQ%3D%3D?line=11'>12</a>\u001b[0m \u001b[39mfrom\u001b[39;00m \u001b[39mGTools\u001b[39;00m\u001b[39m.\u001b[39;00m\u001b[39mPlotMaker\u001b[39;00m \u001b[39mimport\u001b[39;00m \u001b[39m*\u001b[39m\n\u001b[0;32m     <a href='vscode-notebook-cell:/c%3A/Users/greyl/SideProjects/SideProjects/JupyterTrain.ipynb#W0sZmlsZQ%3D%3D?line=12'>13</a>\u001b[0m \u001b[39mimport\u001b[39;00m \u001b[39mnumpy\u001b[39;00m \u001b[39mas\u001b[39;00m \u001b[39mnp\u001b[39;00m\n\u001b[0;32m     <a href='vscode-notebook-cell:/c%3A/Users/greyl/SideProjects/SideProjects/JupyterTrain.ipynb#W0sZmlsZQ%3D%3D?line=13'>14</a>\u001b[0m x_data \u001b[39m=\u001b[39m [\u001b[39m0\u001b[39m, \u001b[39m10\u001b[39m, \u001b[39m20\u001b[39m, \u001b[39m30\u001b[39m]\n",
      "\u001b[1;31mModuleNotFoundError\u001b[0m: No module named 'GTools.PlotMaker'"
     ]
    }
   ],
   "source": [
    "# section to demonstrate python skills...\n",
    "# plotting scripts\n",
    "\n",
    "\n",
    "# wikeq symbolic solving library...\n",
    "# enter equation, return class that can solve for all\n",
    "\n",
    "\n",
    "# creating pip \n",
    "# image projects...\n",
    "\n",
    "from GTools.PlotMaker import *\n",
    "import numpy as np\n",
    "x_data = [0, 10, 20, 30]\n",
    "y_data = np.linspace(0, 100)\n",
    "plot_man(x_data, y_data)\n"
   ]
  }
 ],
 "metadata": {
  "kernelspec": {
   "display_name": "Python 3.8.5 ('.venv': venv)",
   "language": "python",
   "name": "python3"
  },
  "language_info": {
   "codemirror_mode": {
    "name": "ipython",
    "version": 3
   },
   "file_extension": ".py",
   "mimetype": "text/x-python",
   "name": "python",
   "nbconvert_exporter": "python",
   "pygments_lexer": "ipython3",
   "version": "3.8.5"
  },
  "orig_nbformat": 4,
  "vscode": {
   "interpreter": {
    "hash": "cb4fe051832306901e80ba0acbce6e4558f7ae63d661b1176afe6ea3a0b591ec"
   }
  }
 },
 "nbformat": 4,
 "nbformat_minor": 2
}
